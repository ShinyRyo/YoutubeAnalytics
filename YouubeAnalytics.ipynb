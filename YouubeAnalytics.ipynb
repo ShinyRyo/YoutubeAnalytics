{
  "nbformat": 4,
  "nbformat_minor": 0,
  "metadata": {
    "colab": {
      "name": "YouubeAnalytics.ipynb",
      "provenance": [],
      "include_colab_link": true
    },
    "kernelspec": {
      "name": "python3",
      "display_name": "Python 3"
    },
    "language_info": {
      "name": "python"
    }
  },
  "cells": [
    {
      "cell_type": "markdown",
      "metadata": {
        "id": "view-in-github",
        "colab_type": "text"
      },
      "source": [
        "<a href=\"https://colab.research.google.com/github/ShinyRyo/YoutubeAnalytics/blob/main/YouubeAnalytics.ipynb\" target=\"_parent\"><img src=\"https://colab.research.google.com/assets/colab-badge.svg\" alt=\"Open In Colab\"/></a>"
      ]
    },
    {
      "cell_type": "markdown",
      "metadata": {
        "id": "XuiLAJRXiYet"
      },
      "source": [
        "#1 データの取得"
      ]
    },
    {
      "cell_type": "code",
      "metadata": {
        "colab": {
          "base_uri": "https://localhost:8080/"
        },
        "id": "mGSTgQA4Kz5c",
        "outputId": "3db3e824-2022-4398-dd26-bce45b11417d"
      },
      "source": [
        "#JPvideos.xlsxをGoogle Drive からひっぱってくるやつ\n",
        "from googleapiclient.discovery import build\n",
        "import io, os\n",
        "from googleapiclient.http import MediaIoBaseDownload\n",
        "from google.colab import auth\n",
        " \n",
        "auth.authenticate_user()\n",
        " \n",
        "drive_service = build('drive', 'v3')\n",
        "results = drive_service.files().list(\n",
        "        q=\"name = 'JPvideos.xlsx'\", fields=\"files(id)\").execute()\n",
        "signate_api_key = results.get('files', [])\n",
        " \n",
        "filename = \"./JPvideos.xlsx\"\n",
        "os.makedirs(os.path.dirname(filename), exist_ok=True)\n",
        " \n",
        "request = drive_service.files().get_media(fileId=signate_api_key[0]['id'])\n",
        "fh = io.FileIO(filename, 'wb')\n",
        "downloader = MediaIoBaseDownload(fh, request)\n",
        "done = False\n",
        "while done is False:\n",
        "    status, done = downloader.next_chunk()\n",
        "    print(\"Download %d%%.\" % int(status.progress() * 100))\n",
        "os.chmod(filename, 600)"
      ],
      "execution_count": 1,
      "outputs": [
        {
          "output_type": "stream",
          "text": [
            "Download 100%.\n"
          ],
          "name": "stdout"
        }
      ]
    },
    {
      "cell_type": "markdown",
      "metadata": {
        "id": "ldIwqkVDIngf"
      },
      "source": [
        "#分析"
      ]
    },
    {
      "cell_type": "code",
      "metadata": {
        "id": "niRcxJeeSGiU",
        "colab": {
          "base_uri": "https://localhost:8080/",
          "height": 1000
        },
        "outputId": "59cb795f-ba9c-4db1-f161-0e4d0f7954c1"
      },
      "source": [
        "pd.read_json('test.json')"
      ],
      "execution_count": null,
      "outputs": [
        {
          "output_type": "execute_result",
          "data": {
            "text/html": [
              "<div>\n",
              "<style scoped>\n",
              "    .dataframe tbody tr th:only-of-type {\n",
              "        vertical-align: middle;\n",
              "    }\n",
              "\n",
              "    .dataframe tbody tr th {\n",
              "        vertical-align: top;\n",
              "    }\n",
              "\n",
              "    .dataframe thead th {\n",
              "        text-align: right;\n",
              "    }\n",
              "</style>\n",
              "<table border=\"1\" class=\"dataframe\">\n",
              "  <thead>\n",
              "    <tr style=\"text-align: right;\">\n",
              "      <th></th>\n",
              "      <th>kind</th>\n",
              "      <th>etag</th>\n",
              "      <th>items</th>\n",
              "    </tr>\n",
              "  </thead>\n",
              "  <tbody>\n",
              "    <tr>\n",
              "      <th>0</th>\n",
              "      <td>youtube#videoCategoryListResponse</td>\n",
              "      <td>\"XI7nbFXulYBIpL0ayR_gDh3eu1k/1v2mrzYSYG6onNLt2...</td>\n",
              "      <td>{'kind': 'youtube#videoCategory', 'etag': '\"XI...</td>\n",
              "    </tr>\n",
              "    <tr>\n",
              "      <th>1</th>\n",
              "      <td>youtube#videoCategoryListResponse</td>\n",
              "      <td>\"XI7nbFXulYBIpL0ayR_gDh3eu1k/1v2mrzYSYG6onNLt2...</td>\n",
              "      <td>{'kind': 'youtube#videoCategory', 'etag': '\"XI...</td>\n",
              "    </tr>\n",
              "    <tr>\n",
              "      <th>2</th>\n",
              "      <td>youtube#videoCategoryListResponse</td>\n",
              "      <td>\"XI7nbFXulYBIpL0ayR_gDh3eu1k/1v2mrzYSYG6onNLt2...</td>\n",
              "      <td>{'kind': 'youtube#videoCategory', 'etag': '\"XI...</td>\n",
              "    </tr>\n",
              "    <tr>\n",
              "      <th>3</th>\n",
              "      <td>youtube#videoCategoryListResponse</td>\n",
              "      <td>\"XI7nbFXulYBIpL0ayR_gDh3eu1k/1v2mrzYSYG6onNLt2...</td>\n",
              "      <td>{'kind': 'youtube#videoCategory', 'etag': '\"XI...</td>\n",
              "    </tr>\n",
              "    <tr>\n",
              "      <th>4</th>\n",
              "      <td>youtube#videoCategoryListResponse</td>\n",
              "      <td>\"XI7nbFXulYBIpL0ayR_gDh3eu1k/1v2mrzYSYG6onNLt2...</td>\n",
              "      <td>{'kind': 'youtube#videoCategory', 'etag': '\"XI...</td>\n",
              "    </tr>\n",
              "    <tr>\n",
              "      <th>5</th>\n",
              "      <td>youtube#videoCategoryListResponse</td>\n",
              "      <td>\"XI7nbFXulYBIpL0ayR_gDh3eu1k/1v2mrzYSYG6onNLt2...</td>\n",
              "      <td>{'kind': 'youtube#videoCategory', 'etag': '\"XI...</td>\n",
              "    </tr>\n",
              "    <tr>\n",
              "      <th>6</th>\n",
              "      <td>youtube#videoCategoryListResponse</td>\n",
              "      <td>\"XI7nbFXulYBIpL0ayR_gDh3eu1k/1v2mrzYSYG6onNLt2...</td>\n",
              "      <td>{'kind': 'youtube#videoCategory', 'etag': '\"XI...</td>\n",
              "    </tr>\n",
              "    <tr>\n",
              "      <th>7</th>\n",
              "      <td>youtube#videoCategoryListResponse</td>\n",
              "      <td>\"XI7nbFXulYBIpL0ayR_gDh3eu1k/1v2mrzYSYG6onNLt2...</td>\n",
              "      <td>{'kind': 'youtube#videoCategory', 'etag': '\"XI...</td>\n",
              "    </tr>\n",
              "    <tr>\n",
              "      <th>8</th>\n",
              "      <td>youtube#videoCategoryListResponse</td>\n",
              "      <td>\"XI7nbFXulYBIpL0ayR_gDh3eu1k/1v2mrzYSYG6onNLt2...</td>\n",
              "      <td>{'kind': 'youtube#videoCategory', 'etag': '\"XI...</td>\n",
              "    </tr>\n",
              "    <tr>\n",
              "      <th>9</th>\n",
              "      <td>youtube#videoCategoryListResponse</td>\n",
              "      <td>\"XI7nbFXulYBIpL0ayR_gDh3eu1k/1v2mrzYSYG6onNLt2...</td>\n",
              "      <td>{'kind': 'youtube#videoCategory', 'etag': '\"XI...</td>\n",
              "    </tr>\n",
              "    <tr>\n",
              "      <th>10</th>\n",
              "      <td>youtube#videoCategoryListResponse</td>\n",
              "      <td>\"XI7nbFXulYBIpL0ayR_gDh3eu1k/1v2mrzYSYG6onNLt2...</td>\n",
              "      <td>{'kind': 'youtube#videoCategory', 'etag': '\"XI...</td>\n",
              "    </tr>\n",
              "    <tr>\n",
              "      <th>11</th>\n",
              "      <td>youtube#videoCategoryListResponse</td>\n",
              "      <td>\"XI7nbFXulYBIpL0ayR_gDh3eu1k/1v2mrzYSYG6onNLt2...</td>\n",
              "      <td>{'kind': 'youtube#videoCategory', 'etag': '\"XI...</td>\n",
              "    </tr>\n",
              "    <tr>\n",
              "      <th>12</th>\n",
              "      <td>youtube#videoCategoryListResponse</td>\n",
              "      <td>\"XI7nbFXulYBIpL0ayR_gDh3eu1k/1v2mrzYSYG6onNLt2...</td>\n",
              "      <td>{'kind': 'youtube#videoCategory', 'etag': '\"XI...</td>\n",
              "    </tr>\n",
              "    <tr>\n",
              "      <th>13</th>\n",
              "      <td>youtube#videoCategoryListResponse</td>\n",
              "      <td>\"XI7nbFXulYBIpL0ayR_gDh3eu1k/1v2mrzYSYG6onNLt2...</td>\n",
              "      <td>{'kind': 'youtube#videoCategory', 'etag': '\"XI...</td>\n",
              "    </tr>\n",
              "    <tr>\n",
              "      <th>14</th>\n",
              "      <td>youtube#videoCategoryListResponse</td>\n",
              "      <td>\"XI7nbFXulYBIpL0ayR_gDh3eu1k/1v2mrzYSYG6onNLt2...</td>\n",
              "      <td>{'kind': 'youtube#videoCategory', 'etag': '\"XI...</td>\n",
              "    </tr>\n",
              "    <tr>\n",
              "      <th>15</th>\n",
              "      <td>youtube#videoCategoryListResponse</td>\n",
              "      <td>\"XI7nbFXulYBIpL0ayR_gDh3eu1k/1v2mrzYSYG6onNLt2...</td>\n",
              "      <td>{'kind': 'youtube#videoCategory', 'etag': '\"XI...</td>\n",
              "    </tr>\n",
              "    <tr>\n",
              "      <th>16</th>\n",
              "      <td>youtube#videoCategoryListResponse</td>\n",
              "      <td>\"XI7nbFXulYBIpL0ayR_gDh3eu1k/1v2mrzYSYG6onNLt2...</td>\n",
              "      <td>{'kind': 'youtube#videoCategory', 'etag': '\"XI...</td>\n",
              "    </tr>\n",
              "    <tr>\n",
              "      <th>17</th>\n",
              "      <td>youtube#videoCategoryListResponse</td>\n",
              "      <td>\"XI7nbFXulYBIpL0ayR_gDh3eu1k/1v2mrzYSYG6onNLt2...</td>\n",
              "      <td>{'kind': 'youtube#videoCategory', 'etag': '\"XI...</td>\n",
              "    </tr>\n",
              "    <tr>\n",
              "      <th>18</th>\n",
              "      <td>youtube#videoCategoryListResponse</td>\n",
              "      <td>\"XI7nbFXulYBIpL0ayR_gDh3eu1k/1v2mrzYSYG6onNLt2...</td>\n",
              "      <td>{'kind': 'youtube#videoCategory', 'etag': '\"XI...</td>\n",
              "    </tr>\n",
              "    <tr>\n",
              "      <th>19</th>\n",
              "      <td>youtube#videoCategoryListResponse</td>\n",
              "      <td>\"XI7nbFXulYBIpL0ayR_gDh3eu1k/1v2mrzYSYG6onNLt2...</td>\n",
              "      <td>{'kind': 'youtube#videoCategory', 'etag': '\"XI...</td>\n",
              "    </tr>\n",
              "    <tr>\n",
              "      <th>20</th>\n",
              "      <td>youtube#videoCategoryListResponse</td>\n",
              "      <td>\"XI7nbFXulYBIpL0ayR_gDh3eu1k/1v2mrzYSYG6onNLt2...</td>\n",
              "      <td>{'kind': 'youtube#videoCategory', 'etag': '\"XI...</td>\n",
              "    </tr>\n",
              "    <tr>\n",
              "      <th>21</th>\n",
              "      <td>youtube#videoCategoryListResponse</td>\n",
              "      <td>\"XI7nbFXulYBIpL0ayR_gDh3eu1k/1v2mrzYSYG6onNLt2...</td>\n",
              "      <td>{'kind': 'youtube#videoCategory', 'etag': '\"XI...</td>\n",
              "    </tr>\n",
              "    <tr>\n",
              "      <th>22</th>\n",
              "      <td>youtube#videoCategoryListResponse</td>\n",
              "      <td>\"XI7nbFXulYBIpL0ayR_gDh3eu1k/1v2mrzYSYG6onNLt2...</td>\n",
              "      <td>{'kind': 'youtube#videoCategory', 'etag': '\"XI...</td>\n",
              "    </tr>\n",
              "    <tr>\n",
              "      <th>23</th>\n",
              "      <td>youtube#videoCategoryListResponse</td>\n",
              "      <td>\"XI7nbFXulYBIpL0ayR_gDh3eu1k/1v2mrzYSYG6onNLt2...</td>\n",
              "      <td>{'kind': 'youtube#videoCategory', 'etag': '\"XI...</td>\n",
              "    </tr>\n",
              "    <tr>\n",
              "      <th>24</th>\n",
              "      <td>youtube#videoCategoryListResponse</td>\n",
              "      <td>\"XI7nbFXulYBIpL0ayR_gDh3eu1k/1v2mrzYSYG6onNLt2...</td>\n",
              "      <td>{'kind': 'youtube#videoCategory', 'etag': '\"XI...</td>\n",
              "    </tr>\n",
              "    <tr>\n",
              "      <th>25</th>\n",
              "      <td>youtube#videoCategoryListResponse</td>\n",
              "      <td>\"XI7nbFXulYBIpL0ayR_gDh3eu1k/1v2mrzYSYG6onNLt2...</td>\n",
              "      <td>{'kind': 'youtube#videoCategory', 'etag': '\"XI...</td>\n",
              "    </tr>\n",
              "    <tr>\n",
              "      <th>26</th>\n",
              "      <td>youtube#videoCategoryListResponse</td>\n",
              "      <td>\"XI7nbFXulYBIpL0ayR_gDh3eu1k/1v2mrzYSYG6onNLt2...</td>\n",
              "      <td>{'kind': 'youtube#videoCategory', 'etag': '\"XI...</td>\n",
              "    </tr>\n",
              "    <tr>\n",
              "      <th>27</th>\n",
              "      <td>youtube#videoCategoryListResponse</td>\n",
              "      <td>\"XI7nbFXulYBIpL0ayR_gDh3eu1k/1v2mrzYSYG6onNLt2...</td>\n",
              "      <td>{'kind': 'youtube#videoCategory', 'etag': '\"XI...</td>\n",
              "    </tr>\n",
              "    <tr>\n",
              "      <th>28</th>\n",
              "      <td>youtube#videoCategoryListResponse</td>\n",
              "      <td>\"XI7nbFXulYBIpL0ayR_gDh3eu1k/1v2mrzYSYG6onNLt2...</td>\n",
              "      <td>{'kind': 'youtube#videoCategory', 'etag': '\"XI...</td>\n",
              "    </tr>\n",
              "    <tr>\n",
              "      <th>29</th>\n",
              "      <td>youtube#videoCategoryListResponse</td>\n",
              "      <td>\"XI7nbFXulYBIpL0ayR_gDh3eu1k/1v2mrzYSYG6onNLt2...</td>\n",
              "      <td>{'kind': 'youtube#videoCategory', 'etag': '\"XI...</td>\n",
              "    </tr>\n",
              "    <tr>\n",
              "      <th>30</th>\n",
              "      <td>youtube#videoCategoryListResponse</td>\n",
              "      <td>\"XI7nbFXulYBIpL0ayR_gDh3eu1k/1v2mrzYSYG6onNLt2...</td>\n",
              "      <td>{'kind': 'youtube#videoCategory', 'etag': '\"XI...</td>\n",
              "    </tr>\n",
              "  </tbody>\n",
              "</table>\n",
              "</div>"
            ],
            "text/plain": [
              "                                 kind  ...                                              items\n",
              "0   youtube#videoCategoryListResponse  ...  {'kind': 'youtube#videoCategory', 'etag': '\"XI...\n",
              "1   youtube#videoCategoryListResponse  ...  {'kind': 'youtube#videoCategory', 'etag': '\"XI...\n",
              "2   youtube#videoCategoryListResponse  ...  {'kind': 'youtube#videoCategory', 'etag': '\"XI...\n",
              "3   youtube#videoCategoryListResponse  ...  {'kind': 'youtube#videoCategory', 'etag': '\"XI...\n",
              "4   youtube#videoCategoryListResponse  ...  {'kind': 'youtube#videoCategory', 'etag': '\"XI...\n",
              "5   youtube#videoCategoryListResponse  ...  {'kind': 'youtube#videoCategory', 'etag': '\"XI...\n",
              "6   youtube#videoCategoryListResponse  ...  {'kind': 'youtube#videoCategory', 'etag': '\"XI...\n",
              "7   youtube#videoCategoryListResponse  ...  {'kind': 'youtube#videoCategory', 'etag': '\"XI...\n",
              "8   youtube#videoCategoryListResponse  ...  {'kind': 'youtube#videoCategory', 'etag': '\"XI...\n",
              "9   youtube#videoCategoryListResponse  ...  {'kind': 'youtube#videoCategory', 'etag': '\"XI...\n",
              "10  youtube#videoCategoryListResponse  ...  {'kind': 'youtube#videoCategory', 'etag': '\"XI...\n",
              "11  youtube#videoCategoryListResponse  ...  {'kind': 'youtube#videoCategory', 'etag': '\"XI...\n",
              "12  youtube#videoCategoryListResponse  ...  {'kind': 'youtube#videoCategory', 'etag': '\"XI...\n",
              "13  youtube#videoCategoryListResponse  ...  {'kind': 'youtube#videoCategory', 'etag': '\"XI...\n",
              "14  youtube#videoCategoryListResponse  ...  {'kind': 'youtube#videoCategory', 'etag': '\"XI...\n",
              "15  youtube#videoCategoryListResponse  ...  {'kind': 'youtube#videoCategory', 'etag': '\"XI...\n",
              "16  youtube#videoCategoryListResponse  ...  {'kind': 'youtube#videoCategory', 'etag': '\"XI...\n",
              "17  youtube#videoCategoryListResponse  ...  {'kind': 'youtube#videoCategory', 'etag': '\"XI...\n",
              "18  youtube#videoCategoryListResponse  ...  {'kind': 'youtube#videoCategory', 'etag': '\"XI...\n",
              "19  youtube#videoCategoryListResponse  ...  {'kind': 'youtube#videoCategory', 'etag': '\"XI...\n",
              "20  youtube#videoCategoryListResponse  ...  {'kind': 'youtube#videoCategory', 'etag': '\"XI...\n",
              "21  youtube#videoCategoryListResponse  ...  {'kind': 'youtube#videoCategory', 'etag': '\"XI...\n",
              "22  youtube#videoCategoryListResponse  ...  {'kind': 'youtube#videoCategory', 'etag': '\"XI...\n",
              "23  youtube#videoCategoryListResponse  ...  {'kind': 'youtube#videoCategory', 'etag': '\"XI...\n",
              "24  youtube#videoCategoryListResponse  ...  {'kind': 'youtube#videoCategory', 'etag': '\"XI...\n",
              "25  youtube#videoCategoryListResponse  ...  {'kind': 'youtube#videoCategory', 'etag': '\"XI...\n",
              "26  youtube#videoCategoryListResponse  ...  {'kind': 'youtube#videoCategory', 'etag': '\"XI...\n",
              "27  youtube#videoCategoryListResponse  ...  {'kind': 'youtube#videoCategory', 'etag': '\"XI...\n",
              "28  youtube#videoCategoryListResponse  ...  {'kind': 'youtube#videoCategory', 'etag': '\"XI...\n",
              "29  youtube#videoCategoryListResponse  ...  {'kind': 'youtube#videoCategory', 'etag': '\"XI...\n",
              "30  youtube#videoCategoryListResponse  ...  {'kind': 'youtube#videoCategory', 'etag': '\"XI...\n",
              "\n",
              "[31 rows x 3 columns]"
            ]
          },
          "metadata": {
            "tags": []
          },
          "execution_count": 19
        }
      ]
    },
    {
      "cell_type": "code",
      "metadata": {
        "id": "0TTCqcW3bNEg"
      },
      "source": [
        "import pandas as pd\n",
        "YTA=pd.read_excel('JPvideos.xlsx')"
      ],
      "execution_count": 2,
      "outputs": []
    },
    {
      "cell_type": "code",
      "metadata": {
        "id": "qltc4veaqVp7",
        "colab": {
          "base_uri": "https://localhost:8080/",
          "height": 794
        },
        "outputId": "da71f817-01b1-4cb9-c0d7-5a288fb90ac0"
      },
      "source": [
        "YTA.head()"
      ],
      "execution_count": 3,
      "outputs": [
        {
          "output_type": "execute_result",
          "data": {
            "text/html": [
              "<div>\n",
              "<style scoped>\n",
              "    .dataframe tbody tr th:only-of-type {\n",
              "        vertical-align: middle;\n",
              "    }\n",
              "\n",
              "    .dataframe tbody tr th {\n",
              "        vertical-align: top;\n",
              "    }\n",
              "\n",
              "    .dataframe thead th {\n",
              "        text-align: right;\n",
              "    }\n",
              "</style>\n",
              "<table border=\"1\" class=\"dataframe\">\n",
              "  <thead>\n",
              "    <tr style=\"text-align: right;\">\n",
              "      <th></th>\n",
              "      <th>video_id</th>\n",
              "      <th>trending_date</th>\n",
              "      <th>title</th>\n",
              "      <th>channel_title</th>\n",
              "      <th>category_id</th>\n",
              "      <th>publish_time</th>\n",
              "      <th>tags</th>\n",
              "      <th>views</th>\n",
              "      <th>likes</th>\n",
              "      <th>dislikes</th>\n",
              "      <th>comment_count</th>\n",
              "      <th>thumbnail_link</th>\n",
              "      <th>comments_disabled</th>\n",
              "      <th>ratings_disabled</th>\n",
              "      <th>video_error_or_removed</th>\n",
              "      <th>description</th>\n",
              "    </tr>\n",
              "  </thead>\n",
              "  <tbody>\n",
              "    <tr>\n",
              "      <th>0</th>\n",
              "      <td>5ugKfHgsmYw</td>\n",
              "      <td>2018-07-02 00:00:00</td>\n",
              "      <td>陸自ヘリ、垂直に落下＝路上の車が撮影</td>\n",
              "      <td>時事通信映像センター</td>\n",
              "      <td>25.0</td>\n",
              "      <td>2018-02-06 12:04:37</td>\n",
              "      <td>事故|\"佐賀\"|\"佐賀県\"|\"ヘリコプター\"|\"ヘリ\"|\"自衛隊\"|\"墜落\"|\"落下\"|\"現...</td>\n",
              "      <td>188085.0</td>\n",
              "      <td>591.0</td>\n",
              "      <td>189.0</td>\n",
              "      <td>0.0</td>\n",
              "      <td>https://i.ytimg.com/vi/5ugKfHgsmYw/default.jpg</td>\n",
              "      <td>1.0</td>\n",
              "      <td>0.0</td>\n",
              "      <td>0.0</td>\n",
              "      <td>佐賀県神埼市の民家に墜落した陸上自衛隊のＡＨ６４Ｄ戦闘ヘリコプターが垂直に落下する様子を、近...</td>\n",
              "    </tr>\n",
              "    <tr>\n",
              "      <th>1</th>\n",
              "      <td>ohObafdd34Y</td>\n",
              "      <td>2018-07-02 00:00:00</td>\n",
              "      <td>イッテQ お祭り男宮川×手越 巨大ブランコ②</td>\n",
              "      <td>神谷えりな Kamiya Erina 2</td>\n",
              "      <td>1.0</td>\n",
              "      <td>2018-02-06 13:01:56</td>\n",
              "      <td>[none]</td>\n",
              "      <td>90929.0</td>\n",
              "      <td>442.0</td>\n",
              "      <td>88.0</td>\n",
              "      <td>174.0</td>\n",
              "      <td>https://i.ytimg.com/vi/ohObafdd34Y/default.jpg</td>\n",
              "      <td>0.0</td>\n",
              "      <td>0.0</td>\n",
              "      <td>0.0</td>\n",
              "      <td>NaN</td>\n",
              "    </tr>\n",
              "    <tr>\n",
              "      <th>2</th>\n",
              "      <td>aBr2kKAHN6M</td>\n",
              "      <td>2018-07-02 00:00:00</td>\n",
              "      <td>Live Views of Starman</td>\n",
              "      <td>SpaceX</td>\n",
              "      <td>28.0</td>\n",
              "      <td>2018-02-07 06:38:22</td>\n",
              "      <td>[none]</td>\n",
              "      <td>6408303.0</td>\n",
              "      <td>165892.0</td>\n",
              "      <td>2331.0</td>\n",
              "      <td>3006.0</td>\n",
              "      <td>https://i.ytimg.com/vi/aBr2kKAHN6M/default.jpg</td>\n",
              "      <td>0.0</td>\n",
              "      <td>0.0</td>\n",
              "      <td>0.0</td>\n",
              "      <td>NaN</td>\n",
              "    </tr>\n",
              "    <tr>\n",
              "      <th>3</th>\n",
              "      <td>5wNnwChvmsQ</td>\n",
              "      <td>2018-07-02 00:00:00</td>\n",
              "      <td>東京ディズニーリゾートの元キャストが暴露した秘密5選</td>\n",
              "      <td>アシタノワダイ</td>\n",
              "      <td>25.0</td>\n",
              "      <td>2018-02-06 15:08:49</td>\n",
              "      <td>アシタノワダイ</td>\n",
              "      <td>96255.0</td>\n",
              "      <td>1165.0</td>\n",
              "      <td>277.0</td>\n",
              "      <td>545.0</td>\n",
              "      <td>https://i.ytimg.com/vi/5wNnwChvmsQ/default.jpg</td>\n",
              "      <td>0.0</td>\n",
              "      <td>0.0</td>\n",
              "      <td>0.0</td>\n",
              "      <td>東京ディズニーリゾートの元キャストが暴露した秘密5選\\n\\nかたまりクリエイトさま\\n【検証...</td>\n",
              "    </tr>\n",
              "    <tr>\n",
              "      <th>4</th>\n",
              "      <td>B7J47qFvdsk</td>\n",
              "      <td>2018-07-02 00:00:00</td>\n",
              "      <td>榮倉奈々、衝撃の死んだふり！映画『家に帰ると妻が必ず死んだふりをしています。』特報</td>\n",
              "      <td>シネマトゥデイ</td>\n",
              "      <td>1.0</td>\n",
              "      <td>2018-02-06 11:30:00</td>\n",
              "      <td>[none]</td>\n",
              "      <td>108408.0</td>\n",
              "      <td>1336.0</td>\n",
              "      <td>74.0</td>\n",
              "      <td>201.0</td>\n",
              "      <td>https://i.ytimg.com/vi/B7J47qFvdsk/default.jpg</td>\n",
              "      <td>0.0</td>\n",
              "      <td>0.0</td>\n",
              "      <td>0.0</td>\n",
              "      <td>家に帰ってきたサラリーマンのじゅん（安田顕）は、玄関で血を出して倒れている妻ちえ（榮倉奈々）...</td>\n",
              "    </tr>\n",
              "  </tbody>\n",
              "</table>\n",
              "</div>"
            ],
            "text/plain": [
              "      video_id  ...                                        description\n",
              "0  5ugKfHgsmYw  ...  佐賀県神埼市の民家に墜落した陸上自衛隊のＡＨ６４Ｄ戦闘ヘリコプターが垂直に落下する様子を、近...\n",
              "1  ohObafdd34Y  ...                                                NaN\n",
              "2  aBr2kKAHN6M  ...                                                NaN\n",
              "3  5wNnwChvmsQ  ...  東京ディズニーリゾートの元キャストが暴露した秘密5選\\n\\nかたまりクリエイトさま\\n【検証...\n",
              "4  B7J47qFvdsk  ...  家に帰ってきたサラリーマンのじゅん（安田顕）は、玄関で血を出して倒れている妻ちえ（榮倉奈々）...\n",
              "\n",
              "[5 rows x 16 columns]"
            ]
          },
          "metadata": {
            "tags": []
          },
          "execution_count": 3
        }
      ]
    },
    {
      "cell_type": "code",
      "metadata": {
        "id": "yxvhvtD2b21q",
        "colab": {
          "base_uri": "https://localhost:8080/"
        },
        "outputId": "d515d45c-2d29-4503-9a91-76a21bf2001a"
      },
      "source": [
        "YTA.info()"
      ],
      "execution_count": null,
      "outputs": [
        {
          "output_type": "stream",
          "text": [
            "<class 'pandas.core.frame.DataFrame'>\n",
            "RangeIndex: 21718 entries, 0 to 21717\n",
            "Data columns (total 16 columns):\n",
            " #   Column                  Non-Null Count  Dtype         \n",
            "---  ------                  --------------  -----         \n",
            " 0   video_id                21445 non-null  object        \n",
            " 1   trending_date           8318 non-null   object        \n",
            " 2   title                   20528 non-null  object        \n",
            " 3   channel_title           20528 non-null  object        \n",
            " 4   category_id             20524 non-null  float64       \n",
            " 5   publish_time            20523 non-null  datetime64[ns]\n",
            " 6   tags                    20525 non-null  object        \n",
            " 7   views                   20522 non-null  float64       \n",
            " 8   likes                   20522 non-null  float64       \n",
            " 9   dislikes                20522 non-null  float64       \n",
            " 10  comment_count           20522 non-null  float64       \n",
            " 11  thumbnail_link          20522 non-null  object        \n",
            " 12  comments_disabled       20522 non-null  float64       \n",
            " 13  ratings_disabled        20522 non-null  float64       \n",
            " 14  video_error_or_removed  20522 non-null  float64       \n",
            " 15  description             18398 non-null  object        \n",
            "dtypes: datetime64[ns](1), float64(8), object(7)\n",
            "memory usage: 2.7+ MB\n"
          ],
          "name": "stdout"
        }
      ]
    },
    {
      "cell_type": "code",
      "metadata": {
        "id": "EsOCyA1ZnaX2"
      },
      "source": [
        "YTA.drop('trending_date', axis=1, inplace=True)"
      ],
      "execution_count": 4,
      "outputs": []
    },
    {
      "cell_type": "code",
      "metadata": {
        "id": "PygsYlCnt1n8"
      },
      "source": [
        "YTA.dropna(inplace=True)"
      ],
      "execution_count": 5,
      "outputs": []
    },
    {
      "cell_type": "code",
      "metadata": {
        "colab": {
          "base_uri": "https://localhost:8080/"
        },
        "id": "Ew_zofzqnCsM",
        "outputId": "c9dd336f-18e2-4290-ee5f-9167fc9b8623"
      },
      "source": [
        "YTA.isnull().sum()"
      ],
      "execution_count": 6,
      "outputs": [
        {
          "output_type": "execute_result",
          "data": {
            "text/plain": [
              "video_id                  0\n",
              "title                     0\n",
              "channel_title             0\n",
              "category_id               0\n",
              "publish_time              0\n",
              "tags                      0\n",
              "views                     0\n",
              "likes                     0\n",
              "dislikes                  0\n",
              "comment_count             0\n",
              "thumbnail_link            0\n",
              "comments_disabled         0\n",
              "ratings_disabled          0\n",
              "video_error_or_removed    0\n",
              "description               0\n",
              "dtype: int64"
            ]
          },
          "metadata": {
            "tags": []
          },
          "execution_count": 6
        }
      ]
    },
    {
      "cell_type": "code",
      "metadata": {
        "colab": {
          "base_uri": "https://localhost:8080/"
        },
        "id": "sOv0hTW3m3P2",
        "outputId": "705999d9-d35d-4d88-fe2d-7d7012b2e73a"
      },
      "source": [
        "YTA.info()"
      ],
      "execution_count": null,
      "outputs": [
        {
          "output_type": "stream",
          "text": [
            "<class 'pandas.core.frame.DataFrame'>\n",
            "Int64Index: 18398 entries, 0 to 21717\n",
            "Data columns (total 15 columns):\n",
            " #   Column                  Non-Null Count  Dtype         \n",
            "---  ------                  --------------  -----         \n",
            " 0   video_id                18398 non-null  object        \n",
            " 1   title                   18398 non-null  object        \n",
            " 2   channel_title           18398 non-null  object        \n",
            " 3   category_id             18398 non-null  float64       \n",
            " 4   publish_time            18398 non-null  datetime64[ns]\n",
            " 5   tags                    18398 non-null  object        \n",
            " 6   views                   18398 non-null  float64       \n",
            " 7   likes                   18398 non-null  float64       \n",
            " 8   dislikes                18398 non-null  float64       \n",
            " 9   comment_count           18398 non-null  float64       \n",
            " 10  thumbnail_link          18398 non-null  object        \n",
            " 11  comments_disabled       18398 non-null  float64       \n",
            " 12  ratings_disabled        18398 non-null  float64       \n",
            " 13  video_error_or_removed  18398 non-null  float64       \n",
            " 14  description             18398 non-null  object        \n",
            "dtypes: datetime64[ns](1), float64(8), object(6)\n",
            "memory usage: 2.2+ MB\n"
          ],
          "name": "stdout"
        }
      ]
    },
    {
      "cell_type": "code",
      "metadata": {
        "id": "eq3nZF84j5Dm"
      },
      "source": [
        "# YTA['trending_date']=YTA['trending_date'].fillna(YTA['trending_date'].mode()[0])\n",
        "YTA['publish_time'] = pd.to_datetime(YTA['publish_time']).dt.strftime(\"%Y-%m-%d\")"
      ],
      "execution_count": 7,
      "outputs": []
    },
    {
      "cell_type": "code",
      "metadata": {
        "id": "Py1wwLS_cOCd",
        "colab": {
          "base_uri": "https://localhost:8080/",
          "height": 898
        },
        "outputId": "0a9acf2d-a2c8-485b-c1fe-ca802cf961ec"
      },
      "source": [
        "YTA.head()"
      ],
      "execution_count": 8,
      "outputs": [
        {
          "output_type": "execute_result",
          "data": {
            "text/html": [
              "<div>\n",
              "<style scoped>\n",
              "    .dataframe tbody tr th:only-of-type {\n",
              "        vertical-align: middle;\n",
              "    }\n",
              "\n",
              "    .dataframe tbody tr th {\n",
              "        vertical-align: top;\n",
              "    }\n",
              "\n",
              "    .dataframe thead th {\n",
              "        text-align: right;\n",
              "    }\n",
              "</style>\n",
              "<table border=\"1\" class=\"dataframe\">\n",
              "  <thead>\n",
              "    <tr style=\"text-align: right;\">\n",
              "      <th></th>\n",
              "      <th>video_id</th>\n",
              "      <th>title</th>\n",
              "      <th>channel_title</th>\n",
              "      <th>category_id</th>\n",
              "      <th>publish_time</th>\n",
              "      <th>tags</th>\n",
              "      <th>views</th>\n",
              "      <th>likes</th>\n",
              "      <th>dislikes</th>\n",
              "      <th>comment_count</th>\n",
              "      <th>thumbnail_link</th>\n",
              "      <th>comments_disabled</th>\n",
              "      <th>ratings_disabled</th>\n",
              "      <th>video_error_or_removed</th>\n",
              "      <th>description</th>\n",
              "    </tr>\n",
              "  </thead>\n",
              "  <tbody>\n",
              "    <tr>\n",
              "      <th>0</th>\n",
              "      <td>5ugKfHgsmYw</td>\n",
              "      <td>陸自ヘリ、垂直に落下＝路上の車が撮影</td>\n",
              "      <td>時事通信映像センター</td>\n",
              "      <td>25.0</td>\n",
              "      <td>2018-02-06</td>\n",
              "      <td>事故|\"佐賀\"|\"佐賀県\"|\"ヘリコプター\"|\"ヘリ\"|\"自衛隊\"|\"墜落\"|\"落下\"|\"現...</td>\n",
              "      <td>188085.0</td>\n",
              "      <td>591.0</td>\n",
              "      <td>189.0</td>\n",
              "      <td>0.0</td>\n",
              "      <td>https://i.ytimg.com/vi/5ugKfHgsmYw/default.jpg</td>\n",
              "      <td>1.0</td>\n",
              "      <td>0.0</td>\n",
              "      <td>0.0</td>\n",
              "      <td>佐賀県神埼市の民家に墜落した陸上自衛隊のＡＨ６４Ｄ戦闘ヘリコプターが垂直に落下する様子を、近...</td>\n",
              "    </tr>\n",
              "    <tr>\n",
              "      <th>3</th>\n",
              "      <td>5wNnwChvmsQ</td>\n",
              "      <td>東京ディズニーリゾートの元キャストが暴露した秘密5選</td>\n",
              "      <td>アシタノワダイ</td>\n",
              "      <td>25.0</td>\n",
              "      <td>2018-02-06</td>\n",
              "      <td>アシタノワダイ</td>\n",
              "      <td>96255.0</td>\n",
              "      <td>1165.0</td>\n",
              "      <td>277.0</td>\n",
              "      <td>545.0</td>\n",
              "      <td>https://i.ytimg.com/vi/5wNnwChvmsQ/default.jpg</td>\n",
              "      <td>0.0</td>\n",
              "      <td>0.0</td>\n",
              "      <td>0.0</td>\n",
              "      <td>東京ディズニーリゾートの元キャストが暴露した秘密5選\\n\\nかたまりクリエイトさま\\n【検証...</td>\n",
              "    </tr>\n",
              "    <tr>\n",
              "      <th>4</th>\n",
              "      <td>B7J47qFvdsk</td>\n",
              "      <td>榮倉奈々、衝撃の死んだふり！映画『家に帰ると妻が必ず死んだふりをしています。』特報</td>\n",
              "      <td>シネマトゥデイ</td>\n",
              "      <td>1.0</td>\n",
              "      <td>2018-02-06</td>\n",
              "      <td>[none]</td>\n",
              "      <td>108408.0</td>\n",
              "      <td>1336.0</td>\n",
              "      <td>74.0</td>\n",
              "      <td>201.0</td>\n",
              "      <td>https://i.ytimg.com/vi/B7J47qFvdsk/default.jpg</td>\n",
              "      <td>0.0</td>\n",
              "      <td>0.0</td>\n",
              "      <td>0.0</td>\n",
              "      <td>家に帰ってきたサラリーマンのじゅん（安田顕）は、玄関で血を出して倒れている妻ちえ（榮倉奈々）...</td>\n",
              "    </tr>\n",
              "    <tr>\n",
              "      <th>5</th>\n",
              "      <td>OIDfjdGERr8</td>\n",
              "      <td>有賀さつきさんの死因を元夫・和田圭が会見前に漏らし一同涙の嵐・・・</td>\n",
              "      <td>激白！！スーパー芸能チャンネル！！</td>\n",
              "      <td>22.0</td>\n",
              "      <td>2018-02-06</td>\n",
              "      <td>有賀さつき|\"八木亜希子\"|\"河野景子\"|\"貴乃花\"|\"三宅\"|\"ありがさつき\"|\"和田圭\"</td>\n",
              "      <td>193593.0</td>\n",
              "      <td>0.0</td>\n",
              "      <td>0.0</td>\n",
              "      <td>53.0</td>\n",
              "      <td>https://i.ytimg.com/vi/OIDfjdGERr8/default.jpg</td>\n",
              "      <td>0.0</td>\n",
              "      <td>1.0</td>\n",
              "      <td>0.0</td>\n",
              "      <td>Twitter始めました！\\n\\n登録よろしくお願いします＾＾\\nhttps://twitt...</td>\n",
              "    </tr>\n",
              "    <tr>\n",
              "      <th>7</th>\n",
              "      <td>MPQaySneSUc</td>\n",
              "      <td>直撃LIVE グッディ! 2018年2月6日 180206</td>\n",
              "      <td>バイキング 2018</td>\n",
              "      <td>23.0</td>\n",
              "      <td>2018-02-06</td>\n",
              "      <td>[none]</td>\n",
              "      <td>66272.0</td>\n",
              "      <td>51.0</td>\n",
              "      <td>167.0</td>\n",
              "      <td>164.0</td>\n",
              "      <td>https://i.ytimg.com/vi/MPQaySneSUc/default.jpg</td>\n",
              "      <td>0.0</td>\n",
              "      <td>0.0</td>\n",
              "      <td>0.0</td>\n",
              "      <td>直撃LIVE グッディ! 2018年2月6日 180206</td>\n",
              "    </tr>\n",
              "  </tbody>\n",
              "</table>\n",
              "</div>"
            ],
            "text/plain": [
              "      video_id  ...                                        description\n",
              "0  5ugKfHgsmYw  ...  佐賀県神埼市の民家に墜落した陸上自衛隊のＡＨ６４Ｄ戦闘ヘリコプターが垂直に落下する様子を、近...\n",
              "3  5wNnwChvmsQ  ...  東京ディズニーリゾートの元キャストが暴露した秘密5選\\n\\nかたまりクリエイトさま\\n【検証...\n",
              "4  B7J47qFvdsk  ...  家に帰ってきたサラリーマンのじゅん（安田顕）は、玄関で血を出して倒れている妻ちえ（榮倉奈々）...\n",
              "5  OIDfjdGERr8  ...  Twitter始めました！\\n\\n登録よろしくお願いします＾＾\\nhttps://twitt...\n",
              "7  MPQaySneSUc  ...                      直撃LIVE グッディ! 2018年2月6日 180206\n",
              "\n",
              "[5 rows x 15 columns]"
            ]
          },
          "metadata": {
            "tags": []
          },
          "execution_count": 8
        }
      ]
    },
    {
      "cell_type": "code",
      "metadata": {
        "id": "HjRNckDbcVIe",
        "colab": {
          "base_uri": "https://localhost:8080/"
        },
        "outputId": "ea7b87d1-d1af-4d0d-b571-c3d465e08488"
      },
      "source": [
        "YTA['publish_time'].nunique()#=pd.to_datetime(YTA['trending_date'])\n",
        "#df['a'] = pd.to_datetime(df['a'])\n",
        "# YTA.head(3)"
      ],
      "execution_count": null,
      "outputs": [
        {
          "output_type": "execute_result",
          "data": {
            "text/plain": [
              "135"
            ]
          },
          "metadata": {
            "tags": []
          },
          "execution_count": 23
        }
      ]
    },
    {
      "cell_type": "code",
      "metadata": {
        "id": "XLRraAM8gLDs",
        "colab": {
          "base_uri": "https://localhost:8080/",
          "height": 306
        },
        "outputId": "c25bed75-e56b-4349-d181-d816a84c0b35"
      },
      "source": [
        "YTA.describe()"
      ],
      "execution_count": null,
      "outputs": [
        {
          "output_type": "execute_result",
          "data": {
            "text/html": [
              "<div>\n",
              "<style scoped>\n",
              "    .dataframe tbody tr th:only-of-type {\n",
              "        vertical-align: middle;\n",
              "    }\n",
              "\n",
              "    .dataframe tbody tr th {\n",
              "        vertical-align: top;\n",
              "    }\n",
              "\n",
              "    .dataframe thead th {\n",
              "        text-align: right;\n",
              "    }\n",
              "</style>\n",
              "<table border=\"1\" class=\"dataframe\">\n",
              "  <thead>\n",
              "    <tr style=\"text-align: right;\">\n",
              "      <th></th>\n",
              "      <th>category_id</th>\n",
              "      <th>views</th>\n",
              "      <th>likes</th>\n",
              "      <th>dislikes</th>\n",
              "      <th>comment_count</th>\n",
              "      <th>comments_disabled</th>\n",
              "      <th>ratings_disabled</th>\n",
              "      <th>video_error_or_removed</th>\n",
              "    </tr>\n",
              "  </thead>\n",
              "  <tbody>\n",
              "    <tr>\n",
              "      <th>count</th>\n",
              "      <td>18398.000000</td>\n",
              "      <td>1.839800e+04</td>\n",
              "      <td>1.839800e+04</td>\n",
              "      <td>18398.000000</td>\n",
              "      <td>18398.000000</td>\n",
              "      <td>18398.000000</td>\n",
              "      <td>18398.000000</td>\n",
              "      <td>18398.000000</td>\n",
              "    </tr>\n",
              "    <tr>\n",
              "      <th>mean</th>\n",
              "      <td>19.785520</td>\n",
              "      <td>2.751613e+05</td>\n",
              "      <td>8.809367e+03</td>\n",
              "      <td>389.535710</td>\n",
              "      <td>1300.330797</td>\n",
              "      <td>0.071910</td>\n",
              "      <td>0.068160</td>\n",
              "      <td>0.000652</td>\n",
              "    </tr>\n",
              "    <tr>\n",
              "      <th>std</th>\n",
              "      <td>6.717243</td>\n",
              "      <td>1.357864e+06</td>\n",
              "      <td>8.842814e+04</td>\n",
              "      <td>2788.715339</td>\n",
              "      <td>15774.195410</td>\n",
              "      <td>0.258346</td>\n",
              "      <td>0.252026</td>\n",
              "      <td>0.025531</td>\n",
              "    </tr>\n",
              "    <tr>\n",
              "      <th>min</th>\n",
              "      <td>1.000000</td>\n",
              "      <td>7.980000e+02</td>\n",
              "      <td>0.000000e+00</td>\n",
              "      <td>0.000000</td>\n",
              "      <td>0.000000</td>\n",
              "      <td>0.000000</td>\n",
              "      <td>0.000000</td>\n",
              "      <td>0.000000</td>\n",
              "    </tr>\n",
              "    <tr>\n",
              "      <th>25%</th>\n",
              "      <td>17.000000</td>\n",
              "      <td>1.877200e+04</td>\n",
              "      <td>1.430000e+02</td>\n",
              "      <td>10.000000</td>\n",
              "      <td>22.000000</td>\n",
              "      <td>0.000000</td>\n",
              "      <td>0.000000</td>\n",
              "      <td>0.000000</td>\n",
              "    </tr>\n",
              "    <tr>\n",
              "      <th>50%</th>\n",
              "      <td>22.000000</td>\n",
              "      <td>6.795000e+04</td>\n",
              "      <td>7.730000e+02</td>\n",
              "      <td>48.000000</td>\n",
              "      <td>151.000000</td>\n",
              "      <td>0.000000</td>\n",
              "      <td>0.000000</td>\n",
              "      <td>0.000000</td>\n",
              "    </tr>\n",
              "    <tr>\n",
              "      <th>75%</th>\n",
              "      <td>24.000000</td>\n",
              "      <td>1.891180e+05</td>\n",
              "      <td>2.548000e+03</td>\n",
              "      <td>194.000000</td>\n",
              "      <td>519.000000</td>\n",
              "      <td>0.000000</td>\n",
              "      <td>0.000000</td>\n",
              "      <td>0.000000</td>\n",
              "    </tr>\n",
              "    <tr>\n",
              "      <th>max</th>\n",
              "      <td>29.000000</td>\n",
              "      <td>6.279639e+07</td>\n",
              "      <td>4.470923e+06</td>\n",
              "      <td>119053.000000</td>\n",
              "      <td>905925.000000</td>\n",
              "      <td>1.000000</td>\n",
              "      <td>1.000000</td>\n",
              "      <td>1.000000</td>\n",
              "    </tr>\n",
              "  </tbody>\n",
              "</table>\n",
              "</div>"
            ],
            "text/plain": [
              "        category_id         views  ...  ratings_disabled  video_error_or_removed\n",
              "count  18398.000000  1.839800e+04  ...      18398.000000            18398.000000\n",
              "mean      19.785520  2.751613e+05  ...          0.068160                0.000652\n",
              "std        6.717243  1.357864e+06  ...          0.252026                0.025531\n",
              "min        1.000000  7.980000e+02  ...          0.000000                0.000000\n",
              "25%       17.000000  1.877200e+04  ...          0.000000                0.000000\n",
              "50%       22.000000  6.795000e+04  ...          0.000000                0.000000\n",
              "75%       24.000000  1.891180e+05  ...          0.000000                0.000000\n",
              "max       29.000000  6.279639e+07  ...          1.000000                1.000000\n",
              "\n",
              "[8 rows x 8 columns]"
            ]
          },
          "metadata": {
            "tags": []
          },
          "execution_count": 24
        }
      ]
    },
    {
      "cell_type": "code",
      "metadata": {
        "id": "82FRDVquf64d",
        "colab": {
          "base_uri": "https://localhost:8080/",
          "height": 278
        },
        "outputId": "1cb9a724-3538-4f40-d9f4-17fe2067891a"
      },
      "source": [
        "YTA.describe(include='O')"
      ],
      "execution_count": null,
      "outputs": [
        {
          "output_type": "execute_result",
          "data": {
            "text/html": [
              "<div>\n",
              "<style scoped>\n",
              "    .dataframe tbody tr th:only-of-type {\n",
              "        vertical-align: middle;\n",
              "    }\n",
              "\n",
              "    .dataframe tbody tr th {\n",
              "        vertical-align: top;\n",
              "    }\n",
              "\n",
              "    .dataframe thead th {\n",
              "        text-align: right;\n",
              "    }\n",
              "</style>\n",
              "<table border=\"1\" class=\"dataframe\">\n",
              "  <thead>\n",
              "    <tr style=\"text-align: right;\">\n",
              "      <th></th>\n",
              "      <th>video_id</th>\n",
              "      <th>trending_date</th>\n",
              "      <th>title</th>\n",
              "      <th>channel_title</th>\n",
              "      <th>publish_time</th>\n",
              "      <th>tags</th>\n",
              "      <th>thumbnail_link</th>\n",
              "      <th>description</th>\n",
              "    </tr>\n",
              "  </thead>\n",
              "  <tbody>\n",
              "    <tr>\n",
              "      <th>count</th>\n",
              "      <td>21445</td>\n",
              "      <td>8318</td>\n",
              "      <td>20528</td>\n",
              "      <td>20528</td>\n",
              "      <td>20523</td>\n",
              "      <td>20525</td>\n",
              "      <td>20522</td>\n",
              "      <td>18398</td>\n",
              "    </tr>\n",
              "    <tr>\n",
              "      <th>unique</th>\n",
              "      <td>13297</td>\n",
              "      <td>50</td>\n",
              "      <td>13091</td>\n",
              "      <td>4653</td>\n",
              "      <td>136</td>\n",
              "      <td>8762</td>\n",
              "      <td>13092</td>\n",
              "      <td>10741</td>\n",
              "    </tr>\n",
              "    <tr>\n",
              "      <th>top</th>\n",
              "      <td>#NAME?</td>\n",
              "      <td>2018-04-04 00:00:00</td>\n",
              "      <td>【吹いたら負け】話題の面白い画像集</td>\n",
              "      <td>DHCテレビ</td>\n",
              "      <td>2018-03-12</td>\n",
              "      <td>[none]</td>\n",
              "      <td>https://i.ytimg.com/vi/5ugKfHgsmYw/default.jpg</td>\n",
              "      <td>説明</td>\n",
              "    </tr>\n",
              "    <tr>\n",
              "      <th>freq</th>\n",
              "      <td>282</td>\n",
              "      <td>199</td>\n",
              "      <td>17</td>\n",
              "      <td>169</td>\n",
              "      <td>367</td>\n",
              "      <td>3200</td>\n",
              "      <td>8</td>\n",
              "      <td>94</td>\n",
              "    </tr>\n",
              "  </tbody>\n",
              "</table>\n",
              "</div>"
            ],
            "text/plain": [
              "       video_id  ... description\n",
              "count     21445  ...       18398\n",
              "unique    13297  ...       10741\n",
              "top      #NAME?  ...          説明\n",
              "freq        282  ...          94\n",
              "\n",
              "[4 rows x 8 columns]"
            ]
          },
          "metadata": {
            "tags": []
          },
          "execution_count": 62
        }
      ]
    },
    {
      "cell_type": "code",
      "metadata": {
        "id": "sysg_a5qgP8m",
        "colab": {
          "base_uri": "https://localhost:8080/"
        },
        "outputId": "b7f394ed-a3e5-4c1b-99d2-59357054c090"
      },
      "source": [
        "YTA.info()"
      ],
      "execution_count": null,
      "outputs": [
        {
          "output_type": "stream",
          "text": [
            "<class 'pandas.core.frame.DataFrame'>\n",
            "Int64Index: 18398 entries, 0 to 21717\n",
            "Data columns (total 15 columns):\n",
            " #   Column                  Non-Null Count  Dtype  \n",
            "---  ------                  --------------  -----  \n",
            " 0   video_id                18398 non-null  object \n",
            " 1   title                   18398 non-null  object \n",
            " 2   channel_title           18398 non-null  object \n",
            " 3   category_id             18398 non-null  float64\n",
            " 4   publish_time            18398 non-null  object \n",
            " 5   tags                    18398 non-null  object \n",
            " 6   views                   18398 non-null  float64\n",
            " 7   likes                   18398 non-null  float64\n",
            " 8   dislikes                18398 non-null  float64\n",
            " 9   comment_count           18398 non-null  float64\n",
            " 10  thumbnail_link          18398 non-null  object \n",
            " 11  comments_disabled       18398 non-null  float64\n",
            " 12  ratings_disabled        18398 non-null  float64\n",
            " 13  video_error_or_removed  18398 non-null  float64\n",
            " 14  description             18398 non-null  object \n",
            "dtypes: float64(8), object(7)\n",
            "memory usage: 2.2+ MB\n"
          ],
          "name": "stdout"
        }
      ]
    },
    {
      "cell_type": "markdown",
      "metadata": {
        "id": "5BDE9U-nc6OZ"
      },
      "source": [
        "#説明変数と目的変数の作成"
      ]
    },
    {
      "cell_type": "code",
      "metadata": {
        "id": "vNrJRO2Lg7Uy"
      },
      "source": [
        "y_col='views'"
      ],
      "execution_count": 9,
      "outputs": []
    },
    {
      "cell_type": "code",
      "metadata": {
        "id": "CR-95ChAiM3K",
        "colab": {
          "base_uri": "https://localhost:8080/"
        },
        "outputId": "5f1f5e69-3c7d-4f50-90d9-a702c4ea5c3a"
      },
      "source": [
        "#説明変数\n",
        "features=list(YTA.columns)\n",
        "features.remove('views')\n",
        "features"
      ],
      "execution_count": 10,
      "outputs": [
        {
          "output_type": "execute_result",
          "data": {
            "text/plain": [
              "['video_id',\n",
              " 'title',\n",
              " 'channel_title',\n",
              " 'category_id',\n",
              " 'publish_time',\n",
              " 'tags',\n",
              " 'likes',\n",
              " 'dislikes',\n",
              " 'comment_count',\n",
              " 'thumbnail_link',\n",
              " 'comments_disabled',\n",
              " 'ratings_disabled',\n",
              " 'video_error_or_removed',\n",
              " 'description']"
            ]
          },
          "metadata": {
            "tags": []
          },
          "execution_count": 10
        }
      ]
    },
    {
      "cell_type": "code",
      "metadata": {
        "id": "op7s3qTli_8E",
        "colab": {
          "base_uri": "https://localhost:8080/"
        },
        "outputId": "1bf2c577-3b66-4a45-8d57-d847bb1bda84"
      },
      "source": [
        "YTA['publish_time'].nunique()"
      ],
      "execution_count": null,
      "outputs": [
        {
          "output_type": "execute_result",
          "data": {
            "text/plain": [
              "135"
            ]
          },
          "metadata": {
            "tags": []
          },
          "execution_count": 28
        }
      ]
    },
    {
      "cell_type": "markdown",
      "metadata": {
        "id": "jOc5dO2LdCCt"
      },
      "source": [
        "##カテゴリカルデータの前処理"
      ]
    },
    {
      "cell_type": "code",
      "metadata": {
        "id": "Ml9hk8MYg_YT",
        "colab": {
          "base_uri": "https://localhost:8080/"
        },
        "outputId": "3d43aa23-a017-4279-c191-4772f26d1109"
      },
      "source": [
        "categorical_features=list(YTA.describe(include=['O']).columns)\n",
        "categorical_features"
      ],
      "execution_count": 11,
      "outputs": [
        {
          "output_type": "execute_result",
          "data": {
            "text/plain": [
              "['video_id',\n",
              " 'title',\n",
              " 'channel_title',\n",
              " 'publish_time',\n",
              " 'tags',\n",
              " 'thumbnail_link',\n",
              " 'description']"
            ]
          },
          "metadata": {
            "tags": []
          },
          "execution_count": 11
        }
      ]
    },
    {
      "cell_type": "code",
      "metadata": {
        "id": "YY4KcxpahZTc"
      },
      "source": [
        "from sklearn import preprocessing\n",
        "labels={}\n",
        "for column in categorical_features:\n",
        "    # print(train[column].shape)\n",
        "    le= preprocessing.LabelEncoder()\n",
        "    le.fit(YTA[column].astype(str))\n",
        "    label={column:list(le.classes_)}\n",
        "    labels.update(label)\n",
        "    YTA[column]=le.transform(YTA[column].astype(str))"
      ],
      "execution_count": 12,
      "outputs": []
    },
    {
      "cell_type": "code",
      "metadata": {
        "id": "WWuI1LG0iabm"
      },
      "source": [
        "X=YTA[features]\n",
        "y=YTA[y_col]"
      ],
      "execution_count": 13,
      "outputs": []
    },
    {
      "cell_type": "code",
      "metadata": {
        "id": "3-n7v64ah7zv"
      },
      "source": [
        "from sklearn.model_selection import train_test_split\n",
        "X_train, X_val, y_train, y_val = train_test_split(X, y,test_size=0.20, random_state=2)"
      ],
      "execution_count": 14,
      "outputs": []
    },
    {
      "cell_type": "code",
      "metadata": {
        "id": "809aOH70pFDc",
        "colab": {
          "base_uri": "https://localhost:8080/"
        },
        "outputId": "964fe555-c1c1-4201-920e-732a56aeea7d"
      },
      "source": [
        "y_train.head()"
      ],
      "execution_count": null,
      "outputs": [
        {
          "output_type": "execute_result",
          "data": {
            "text/plain": [
              "14051      83510.0\n",
              "21267     547509.0\n",
              "8625       11581.0\n",
              "15296      51166.0\n",
              "18442    4196932.0\n",
              "Name: views, dtype: float64"
            ]
          },
          "metadata": {
            "tags": []
          },
          "execution_count": 76
        }
      ]
    },
    {
      "cell_type": "code",
      "metadata": {
        "id": "TgM3PGhxozXs",
        "colab": {
          "base_uri": "https://localhost:8080/",
          "height": 222
        },
        "outputId": "0aa58bbe-d944-4026-b327-478544c3c4ec"
      },
      "source": [
        "X_train.head()"
      ],
      "execution_count": null,
      "outputs": [
        {
          "output_type": "execute_result",
          "data": {
            "text/html": [
              "<div>\n",
              "<style scoped>\n",
              "    .dataframe tbody tr th:only-of-type {\n",
              "        vertical-align: middle;\n",
              "    }\n",
              "\n",
              "    .dataframe tbody tr th {\n",
              "        vertical-align: top;\n",
              "    }\n",
              "\n",
              "    .dataframe thead th {\n",
              "        text-align: right;\n",
              "    }\n",
              "</style>\n",
              "<table border=\"1\" class=\"dataframe\">\n",
              "  <thead>\n",
              "    <tr style=\"text-align: right;\">\n",
              "      <th></th>\n",
              "      <th>video_id</th>\n",
              "      <th>trending_date</th>\n",
              "      <th>title</th>\n",
              "      <th>channel_title</th>\n",
              "      <th>category_id</th>\n",
              "      <th>publish_time</th>\n",
              "      <th>tags</th>\n",
              "      <th>likes</th>\n",
              "      <th>dislikes</th>\n",
              "      <th>comment_count</th>\n",
              "      <th>thumbnail_link</th>\n",
              "      <th>comments_disabled</th>\n",
              "      <th>ratings_disabled</th>\n",
              "      <th>video_error_or_removed</th>\n",
              "      <th>description</th>\n",
              "    </tr>\n",
              "  </thead>\n",
              "  <tbody>\n",
              "    <tr>\n",
              "      <th>14051</th>\n",
              "      <td>1643</td>\n",
              "      <td>10</td>\n",
              "      <td>7748</td>\n",
              "      <td>2416</td>\n",
              "      <td>17.0</td>\n",
              "      <td>92</td>\n",
              "      <td>7365</td>\n",
              "      <td>37.0</td>\n",
              "      <td>95.0</td>\n",
              "      <td>91.0</td>\n",
              "      <td>1817</td>\n",
              "      <td>0.0</td>\n",
              "      <td>0.0</td>\n",
              "      <td>0.0</td>\n",
              "      <td>2688</td>\n",
              "    </tr>\n",
              "    <tr>\n",
              "      <th>21267</th>\n",
              "      <td>8616</td>\n",
              "      <td>48</td>\n",
              "      <td>4810</td>\n",
              "      <td>3774</td>\n",
              "      <td>22.0</td>\n",
              "      <td>131</td>\n",
              "      <td>190</td>\n",
              "      <td>2067.0</td>\n",
              "      <td>884.0</td>\n",
              "      <td>517.0</td>\n",
              "      <td>8570</td>\n",
              "      <td>0.0</td>\n",
              "      <td>0.0</td>\n",
              "      <td>0.0</td>\n",
              "      <td>3176</td>\n",
              "    </tr>\n",
              "    <tr>\n",
              "      <th>8625</th>\n",
              "      <td>4417</td>\n",
              "      <td>50</td>\n",
              "      <td>10565</td>\n",
              "      <td>1502</td>\n",
              "      <td>23.0</td>\n",
              "      <td>55</td>\n",
              "      <td>1791</td>\n",
              "      <td>170.0</td>\n",
              "      <td>43.0</td>\n",
              "      <td>38.0</td>\n",
              "      <td>4586</td>\n",
              "      <td>0.0</td>\n",
              "      <td>0.0</td>\n",
              "      <td>0.0</td>\n",
              "      <td>3014</td>\n",
              "    </tr>\n",
              "    <tr>\n",
              "      <th>15296</th>\n",
              "      <td>2126</td>\n",
              "      <td>35</td>\n",
              "      <td>10958</td>\n",
              "      <td>566</td>\n",
              "      <td>22.0</td>\n",
              "      <td>98</td>\n",
              "      <td>7183</td>\n",
              "      <td>200.0</td>\n",
              "      <td>31.0</td>\n",
              "      <td>53.0</td>\n",
              "      <td>2299</td>\n",
              "      <td>0.0</td>\n",
              "      <td>0.0</td>\n",
              "      <td>0.0</td>\n",
              "      <td>9058</td>\n",
              "    </tr>\n",
              "    <tr>\n",
              "      <th>18442</th>\n",
              "      <td>10610</td>\n",
              "      <td>50</td>\n",
              "      <td>2738</td>\n",
              "      <td>254</td>\n",
              "      <td>10.0</td>\n",
              "      <td>117</td>\n",
              "      <td>8652</td>\n",
              "      <td>845046.0</td>\n",
              "      <td>1948.0</td>\n",
              "      <td>56047.0</td>\n",
              "      <td>10523</td>\n",
              "      <td>0.0</td>\n",
              "      <td>0.0</td>\n",
              "      <td>0.0</td>\n",
              "      <td>1013</td>\n",
              "    </tr>\n",
              "  </tbody>\n",
              "</table>\n",
              "</div>"
            ],
            "text/plain": [
              "       video_id  trending_date  ...  video_error_or_removed  description\n",
              "14051      1643             10  ...                     0.0         2688\n",
              "21267      8616             48  ...                     0.0         3176\n",
              "8625       4417             50  ...                     0.0         3014\n",
              "15296      2126             35  ...                     0.0         9058\n",
              "18442     10610             50  ...                     0.0         1013\n",
              "\n",
              "[5 rows x 15 columns]"
            ]
          },
          "metadata": {
            "tags": []
          },
          "execution_count": 81
        }
      ]
    },
    {
      "cell_type": "code",
      "metadata": {
        "id": "c0h4N13_iYvM",
        "colab": {
          "base_uri": "https://localhost:8080/"
        },
        "outputId": "ef3d457f-2194-4149-b963-1a865d9d0a44"
      },
      "source": [
        "import lightgbm as lgb\n",
        "train_data = lgb.Dataset(data = X_train , label = y_train, categorical_feature=categorical_features)\n",
        "valid_data = lgb.Dataset(data = X_val , label = y_val, categorical_feature=categorical_features)\n",
        "params = {'objective' : 'regression',\n",
        "            'metric' : 'rmse',\n",
        "}\n",
        "lgb_model = lgb.train(params , train_data , valid_sets=[train_data , valid_data], categorical_feature=categorical_features)"
      ],
      "execution_count": 15,
      "outputs": [
        {
          "output_type": "stream",
          "text": [
            "/usr/local/lib/python3.7/dist-packages/lightgbm/basic.py:762: UserWarning: categorical_feature in param dict is overridden.\n",
            "  warnings.warn('categorical_feature in param dict is overridden.')\n"
          ],
          "name": "stderr"
        },
        {
          "output_type": "stream",
          "text": [
            "[1]\ttraining's rmse: 1.34375e+06\tvalid_1's rmse: 991488\n",
            "[2]\ttraining's rmse: 1.27532e+06\tvalid_1's rmse: 915431\n",
            "[3]\ttraining's rmse: 1.21944e+06\tvalid_1's rmse: 840618\n",
            "[4]\ttraining's rmse: 1.16735e+06\tvalid_1's rmse: 783808\n",
            "[5]\ttraining's rmse: 1.12527e+06\tvalid_1's rmse: 726167\n",
            "[6]\ttraining's rmse: 1.08567e+06\tvalid_1's rmse: 685152\n",
            "[7]\ttraining's rmse: 1.05416e+06\tvalid_1's rmse: 641504\n",
            "[8]\ttraining's rmse: 1.02388e+06\tvalid_1's rmse: 612495\n",
            "[9]\ttraining's rmse: 998343\tvalid_1's rmse: 589705\n",
            "[10]\ttraining's rmse: 977215\tvalid_1's rmse: 562591\n",
            "[11]\ttraining's rmse: 958350\tvalid_1's rmse: 549320\n",
            "[12]\ttraining's rmse: 942461\tvalid_1's rmse: 529660\n",
            "[13]\ttraining's rmse: 927799\tvalid_1's rmse: 521928\n",
            "[14]\ttraining's rmse: 900634\tvalid_1's rmse: 501631\n",
            "[15]\ttraining's rmse: 878498\tvalid_1's rmse: 487938\n",
            "[16]\ttraining's rmse: 860491\tvalid_1's rmse: 478366\n",
            "[17]\ttraining's rmse: 844566\tvalid_1's rmse: 470699\n",
            "[18]\ttraining's rmse: 831641\tvalid_1's rmse: 466950\n",
            "[19]\ttraining's rmse: 821040\tvalid_1's rmse: 464970\n",
            "[20]\ttraining's rmse: 803935\tvalid_1's rmse: 459813\n",
            "[21]\ttraining's rmse: 798455\tvalid_1's rmse: 462828\n",
            "[22]\ttraining's rmse: 784316\tvalid_1's rmse: 460623\n",
            "[23]\ttraining's rmse: 775781\tvalid_1's rmse: 459454\n",
            "[24]\ttraining's rmse: 767905\tvalid_1's rmse: 458637\n",
            "[25]\ttraining's rmse: 756263\tvalid_1's rmse: 459101\n",
            "[26]\ttraining's rmse: 752105\tvalid_1's rmse: 461340\n",
            "[27]\ttraining's rmse: 740918\tvalid_1's rmse: 460043\n",
            "[28]\ttraining's rmse: 737362\tvalid_1's rmse: 462540\n",
            "[29]\ttraining's rmse: 732378\tvalid_1's rmse: 463816\n",
            "[30]\ttraining's rmse: 723979\tvalid_1's rmse: 465529\n",
            "[31]\ttraining's rmse: 710623\tvalid_1's rmse: 461495\n",
            "[32]\ttraining's rmse: 705348\tvalid_1's rmse: 461292\n",
            "[33]\ttraining's rmse: 697732\tvalid_1's rmse: 464411\n",
            "[34]\ttraining's rmse: 694648\tvalid_1's rmse: 465727\n",
            "[35]\ttraining's rmse: 680377\tvalid_1's rmse: 461813\n",
            "[36]\ttraining's rmse: 670576\tvalid_1's rmse: 461040\n",
            "[37]\ttraining's rmse: 666489\tvalid_1's rmse: 461334\n",
            "[38]\ttraining's rmse: 659265\tvalid_1's rmse: 459998\n",
            "[39]\ttraining's rmse: 655730\tvalid_1's rmse: 460616\n",
            "[40]\ttraining's rmse: 649873\tvalid_1's rmse: 461989\n",
            "[41]\ttraining's rmse: 647689\tvalid_1's rmse: 463638\n",
            "[42]\ttraining's rmse: 635455\tvalid_1's rmse: 462019\n",
            "[43]\ttraining's rmse: 633826\tvalid_1's rmse: 460404\n",
            "[44]\ttraining's rmse: 632447\tvalid_1's rmse: 459492\n",
            "[45]\ttraining's rmse: 627724\tvalid_1's rmse: 460774\n",
            "[46]\ttraining's rmse: 619604\tvalid_1's rmse: 459881\n",
            "[47]\ttraining's rmse: 617189\tvalid_1's rmse: 457717\n",
            "[48]\ttraining's rmse: 615320\tvalid_1's rmse: 455990\n",
            "[49]\ttraining's rmse: 610947\tvalid_1's rmse: 455617\n",
            "[50]\ttraining's rmse: 608877\tvalid_1's rmse: 457024\n",
            "[51]\ttraining's rmse: 598682\tvalid_1's rmse: 457376\n",
            "[52]\ttraining's rmse: 597675\tvalid_1's rmse: 456871\n",
            "[53]\ttraining's rmse: 594348\tvalid_1's rmse: 457885\n",
            "[54]\ttraining's rmse: 584712\tvalid_1's rmse: 457234\n",
            "[55]\ttraining's rmse: 583067\tvalid_1's rmse: 456890\n",
            "[56]\ttraining's rmse: 580728\tvalid_1's rmse: 454228\n",
            "[57]\ttraining's rmse: 573506\tvalid_1's rmse: 454775\n",
            "[58]\ttraining's rmse: 571824\tvalid_1's rmse: 452893\n",
            "[59]\ttraining's rmse: 569708\tvalid_1's rmse: 453895\n",
            "[60]\ttraining's rmse: 567875\tvalid_1's rmse: 451459\n",
            "[61]\ttraining's rmse: 559158\tvalid_1's rmse: 452582\n",
            "[62]\ttraining's rmse: 553728\tvalid_1's rmse: 454278\n",
            "[63]\ttraining's rmse: 551916\tvalid_1's rmse: 452057\n",
            "[64]\ttraining's rmse: 550670\tvalid_1's rmse: 450237\n",
            "[65]\ttraining's rmse: 549414\tvalid_1's rmse: 449237\n",
            "[66]\ttraining's rmse: 546105\tvalid_1's rmse: 449701\n",
            "[67]\ttraining's rmse: 537377\tvalid_1's rmse: 450250\n",
            "[68]\ttraining's rmse: 535047\tvalid_1's rmse: 448102\n",
            "[69]\ttraining's rmse: 533120\tvalid_1's rmse: 448333\n",
            "[70]\ttraining's rmse: 532268\tvalid_1's rmse: 447093\n",
            "[71]\ttraining's rmse: 526037\tvalid_1's rmse: 444595\n",
            "[72]\ttraining's rmse: 525116\tvalid_1's rmse: 443402\n",
            "[73]\ttraining's rmse: 523439\tvalid_1's rmse: 441565\n",
            "[74]\ttraining's rmse: 516195\tvalid_1's rmse: 442336\n",
            "[75]\ttraining's rmse: 514587\tvalid_1's rmse: 441082\n",
            "[76]\ttraining's rmse: 513366\tvalid_1's rmse: 439555\n",
            "[77]\ttraining's rmse: 507859\tvalid_1's rmse: 440152\n",
            "[78]\ttraining's rmse: 506756\tvalid_1's rmse: 438675\n",
            "[79]\ttraining's rmse: 503969\tvalid_1's rmse: 439357\n",
            "[80]\ttraining's rmse: 497807\tvalid_1's rmse: 440826\n",
            "[81]\ttraining's rmse: 496637\tvalid_1's rmse: 439387\n",
            "[82]\ttraining's rmse: 495269\tvalid_1's rmse: 438902\n",
            "[83]\ttraining's rmse: 490470\tvalid_1's rmse: 440042\n",
            "[84]\ttraining's rmse: 488428\tvalid_1's rmse: 438348\n",
            "[85]\ttraining's rmse: 481883\tvalid_1's rmse: 439681\n",
            "[86]\ttraining's rmse: 480785\tvalid_1's rmse: 438140\n",
            "[87]\ttraining's rmse: 479883\tvalid_1's rmse: 436758\n",
            "[88]\ttraining's rmse: 474631\tvalid_1's rmse: 439603\n",
            "[89]\ttraining's rmse: 473004\tvalid_1's rmse: 437980\n",
            "[90]\ttraining's rmse: 472039\tvalid_1's rmse: 437124\n",
            "[91]\ttraining's rmse: 469549\tvalid_1's rmse: 437332\n",
            "[92]\ttraining's rmse: 464359\tvalid_1's rmse: 438713\n",
            "[93]\ttraining's rmse: 463378\tvalid_1's rmse: 438058\n",
            "[94]\ttraining's rmse: 462502\tvalid_1's rmse: 436952\n",
            "[95]\ttraining's rmse: 457027\tvalid_1's rmse: 438639\n",
            "[96]\ttraining's rmse: 455984\tvalid_1's rmse: 437362\n",
            "[97]\ttraining's rmse: 455227\tvalid_1's rmse: 436790\n",
            "[98]\ttraining's rmse: 450549\tvalid_1's rmse: 434867\n",
            "[99]\ttraining's rmse: 449545\tvalid_1's rmse: 433881\n",
            "[100]\ttraining's rmse: 448837\tvalid_1's rmse: 432784\n"
          ],
          "name": "stdout"
        }
      ]
    },
    {
      "cell_type": "code",
      "metadata": {
        "id": "ZgwNfnGjupXU"
      },
      "source": [
        "y_pred=lgb_model.predict(X_train)"
      ],
      "execution_count": 16,
      "outputs": []
    },
    {
      "cell_type": "code",
      "metadata": {
        "colab": {
          "base_uri": "https://localhost:8080/"
        },
        "id": "eWQPEOLduwPa",
        "outputId": "727d15cc-75d2-4f79-a068-adc25096f734"
      },
      "source": [
        "y_pred-y_train"
      ],
      "execution_count": 17,
      "outputs": [
        {
          "output_type": "execute_result",
          "data": {
            "text/plain": [
              "4611      82967.385211\n",
              "16573     -2932.906659\n",
              "8528     -74615.496165\n",
              "11556     16802.239052\n",
              "16080     -3169.595491\n",
              "             ...      \n",
              "17423    104592.367394\n",
              "1309     -30589.433428\n",
              "14049    -19763.374042\n",
              "7850       4328.096353\n",
              "3113     -19546.997051\n",
              "Name: views, Length: 14718, dtype: float64"
            ]
          },
          "metadata": {
            "tags": []
          },
          "execution_count": 17
        }
      ]
    },
    {
      "cell_type": "code",
      "metadata": {
        "id": "59wg3W_Iinhr",
        "colab": {
          "base_uri": "https://localhost:8080/",
          "height": 1000
        },
        "outputId": "a856b410-78c7-45d2-86d6-2cb5174d53ed"
      },
      "source": [
        "lgb_model.feature_importance()\n",
        "lgb.plot_importance(lgb_model, figsize=(20,20))"
      ],
      "execution_count": 18,
      "outputs": [
        {
          "output_type": "execute_result",
          "data": {
            "text/plain": [
              "<matplotlib.axes._subplots.AxesSubplot at 0x7f908b6aa950>"
            ]
          },
          "metadata": {
            "tags": []
          },
          "execution_count": 18
        },
        {
          "output_type": "display_data",
          "data": {
            "image/png": "[encoded data removed]",
            "text/plain": [
              "<Figure size 1440x1440 with 1 Axes>"
            ]
          },
          "metadata": {
            "tags": [],
            "needs_background": "light"
          }
        }
      ]
    },
    {
      "cell_type": "markdown",
      "metadata": {
        "id": "PcoruEFrXPQ4"
      },
      "source": [
        "#結果"
      ]
    },
    {
      "cell_type": "markdown",
      "metadata": {
        "id": "9KIMvoE4XUDW"
      },
      "source": [
        "dislike, coment_count, likeの順に重要度が高い"
      ]
    },
    {
      "cell_type": "markdown",
      "metadata": {
        "id": "lJ0EJXiSdZyV"
      },
      "source": [
        "##ヒートマップ"
      ]
    },
    {
      "cell_type": "code",
      "metadata": {
        "id": "rQ0oqv3beNOL"
      },
      "source": [
        "import seaborn as sns\n",
        "import matplotlib.pyplot as plt"
      ],
      "execution_count": 19,
      "outputs": []
    },
    {
      "cell_type": "code",
      "metadata": {
        "id": "pF6fs7UlXQ8i",
        "outputId": "eca2a012-ee00-434e-9938-0d6b0f40b479",
        "colab": {
          "base_uri": "https://localhost:8080/",
          "height": 597
        }
      },
      "source": [
        "sns.heatmap(YTA.corr(),annot=True,cmap='bwr',linewidths=0.2)\n",
        "fig=plt.gcf()\n",
        "fig.set_size_inches(10,8)\n",
        "plt.show()"
      ],
      "execution_count": 21,
      "outputs": [
        {
          "output_type": "display_data",
          "data": {
            "image/png": "[encoded data removed]",
            "text/plain": [
              "<Figure size 720x576 with 2 Axes>"
            ]
          },
          "metadata": {
            "tags": [],
            "needs_background": "light"
          }
        }
      ]
    }
  ]
}